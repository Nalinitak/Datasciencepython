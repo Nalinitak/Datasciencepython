{
 "cells": [
  {
   "cell_type": "code",
   "execution_count": null,
   "id": "85596e20",
   "metadata": {},
   "outputs": [],
   "source": [
    "#q3.\tAuditors at a small community bank randomly sample 100 withdrawal transactions made during the week at an ATM machine located near the bank’s main branch. Over the past 2 years, the average withdrawal amount has been $50 with a standard deviation of $40. Since audit investigations are typically expensive, the auditors decide to not initiate further investigations if the mean transaction amount of the sample is between $45 and $55. What is the probability that in any given week, there will be an investigation?"
   ]
  },
  {
   "cell_type": "code",
   "execution_count": 1,
   "id": "cc3c6f40",
   "metadata": {},
   "outputs": [],
   "source": [
    "#Sample mean x̅ =$50 \n",
    "#,sat deviation=$40\n",
    "#z = (x – μ) / σ\n"
   ]
  },
  {
   "cell_type": "code",
   "execution_count": 3,
   "id": "fd2ec17c",
   "metadata": {},
   "outputs": [],
   "source": [
    "import pandas as pd\n",
    "from scipy import stats\n",
    "from scipy.stats import norm"
   ]
  },
  {
   "cell_type": "code",
   "execution_count": 6,
   "id": "ce7a68c5",
   "metadata": {},
   "outputs": [
    {
     "data": {
      "text/plain": [
       "0.125"
      ]
     },
     "execution_count": 6,
     "metadata": {},
     "output_type": "execute_result"
    }
   ],
   "source": [
    "#find z score at  55  \n",
    "z=(55-50)/40\n",
    "z"
   ]
  },
  {
   "cell_type": "code",
   "execution_count": 7,
   "id": "79326dc8",
   "metadata": {},
   "outputs": [
    {
     "data": {
      "text/plain": [
       "-0.125"
      ]
     },
     "execution_count": 7,
     "metadata": {},
     "output_type": "execute_result"
    }
   ],
   "source": [
    "#find z score at  45  \n",
    "z=(45-50)/40\n",
    "z"
   ]
  },
  {
   "cell_type": "code",
   "execution_count": 9,
   "id": "67d35054",
   "metadata": {},
   "outputs": [],
   "source": [
    "#find probaility at z probality of investing\n"
   ]
  },
  {
   "cell_type": "code",
   "execution_count": 10,
   "id": "18f73824",
   "metadata": {},
   "outputs": [
    {
     "data": {
      "text/plain": [
       "0.7887004526662893"
      ]
     },
     "execution_count": 10,
     "metadata": {},
     "output_type": "execute_result"
    }
   ],
   "source": [
    "stats.norm.cdf(1.25)-stats.norm.cdf(-1.25)"
   ]
  },
  {
   "cell_type": "code",
   "execution_count": 11,
   "id": "6f97c91d",
   "metadata": {},
   "outputs": [
    {
     "data": {
      "text/plain": [
       "0.21099999999999997"
      ]
     },
     "execution_count": 11,
     "metadata": {},
     "output_type": "execute_result"
    }
   ],
   "source": [
    "1-0.789#probailty of not investing 1-0.788"
   ]
  },
  {
   "cell_type": "code",
   "execution_count": 12,
   "id": "d9d06765",
   "metadata": {},
   "outputs": [
    {
     "data": {
      "text/plain": [
       "21.099999999999998"
      ]
     },
     "execution_count": 12,
     "metadata": {},
     "output_type": "execute_result"
    }
   ],
   "source": [
    "0.21099999999999997*100\n"
   ]
  },
  {
   "cell_type": "code",
   "execution_count": null,
   "id": "c848129c",
   "metadata": {},
   "outputs": [],
   "source": []
  }
 ],
 "metadata": {
  "kernelspec": {
   "display_name": "Python 3 (ipykernel)",
   "language": "python",
   "name": "python3"
  },
  "language_info": {
   "codemirror_mode": {
    "name": "ipython",
    "version": 3
   },
   "file_extension": ".py",
   "mimetype": "text/x-python",
   "name": "python",
   "nbconvert_exporter": "python",
   "pygments_lexer": "ipython3",
   "version": "3.8.12"
  }
 },
 "nbformat": 4,
 "nbformat_minor": 5
}
